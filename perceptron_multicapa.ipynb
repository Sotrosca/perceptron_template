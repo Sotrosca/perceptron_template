{
  "nbformat": 4,
  "nbformat_minor": 0,
  "metadata": {
    "colab": {
      "name": "perceptron-multicapa-v2",
      "version": "0.3.2",
      "provenance": [],
      "collapsed_sections": [
        "xbHbs9bE9Lly"
      ],
      "include_colab_link": true
    },
    "kernelspec": {
      "name": "python3",
      "display_name": "Python 3"
    }
  },
  "cells": [
    {
      "cell_type": "markdown",
      "metadata": {
        "id": "view-in-github",
        "colab_type": "text"
      },
      "source": [
        "<a href=\"https://colab.research.google.com/github/Sotrosca/perceptron_template/blob/master/perceptron_multicapa.ipynb\" target=\"_parent\"><img src=\"https://colab.research.google.com/assets/colab-badge.svg\" alt=\"Open In Colab\"/></a>"
      ]
    },
    {
      "cell_type": "markdown",
      "metadata": {
        "id": "JpTUKw1B7Vac",
        "colab_type": "text"
      },
      "source": [
        "Inicializacion de numpy y ABCMeta. Definicion de las funciones de activacion que usamos."
      ]
    },
    {
      "cell_type": "markdown",
      "metadata": {
        "id": "xbHbs9bE9Lly",
        "colab_type": "text"
      },
      "source": [
        "# Inicializacion de numpy y ABCMeta. Definicion de las funciones de activacion que usamos."
      ]
    },
    {
      "cell_type": "code",
      "metadata": {
        "id": "nuD5V6gWZLTH",
        "colab_type": "code",
        "colab": {}
      },
      "source": [
        "import numpy as np"
      ],
      "execution_count": 0,
      "outputs": []
    },
    {
      "cell_type": "code",
      "metadata": {
        "id": "jhc-CGR7hFbX",
        "colab_type": "code",
        "colab": {}
      },
      "source": [
        "from abc import ABCMeta, abstractmethod\n",
        "\n",
        "class FuncionActivacion(metaclass=ABCMeta):\n",
        "  def __init__(self, Nombre):\n",
        "    self.nombre = Nombre\n",
        "  \n",
        "  def nombreFuncion(self):\n",
        "    return self.nombre\n",
        "  \n",
        "  @abstractmethod\n",
        "  def val(self, x):\n",
        "    pass\n",
        "  \n",
        "  @abstractmethod\n",
        "  def derivada(self, x):\n",
        "    pass\n",
        "  \n",
        "  #faltaria agregar una funcion que deje calcular el error dependiendo de la funcion\n",
        "  def cal_error(self, x, y):\n",
        "    pass\n",
        "  \n",
        "class Escalon(FuncionActivacion):\n",
        "  def __init__(self):\n",
        "    super().__init__(\"escalon\")\n",
        "  \n",
        "  def val(self, x):\n",
        "    return np.where(x >= 0.0, 1, 0)\n",
        "  \n",
        "  def derivada(self, x):\n",
        "    return 1\n",
        "\n",
        "class TanHiperbolica(FuncionActivacion):\n",
        "  def __init__(self):\n",
        "    super().__init__(\"tan hiperbolica\")\n",
        "  \n",
        "  def val(self, x):\n",
        "    return np.tanh(x)\n",
        "  \n",
        "  def derivada(self, x):\n",
        "    tanh = np.tanh(x)\n",
        "    return (1 + tanh) * (1 - tanh)\n",
        "\n",
        "class Logistica(FuncionActivacion):\n",
        "  def __init__(self):\n",
        "    super().__init__(\"logistica\")\n",
        "  \n",
        "  def val(self, x):\n",
        "    return 1 / (1 + np.e ** (-x))\n",
        "  \n",
        "  def derivada(self, x):\n",
        "    logistica = self.val(x)\n",
        "    return logistica * (1 - logistica)"
      ],
      "execution_count": 0,
      "outputs": []
    },
    {
      "cell_type": "markdown",
      "metadata": {
        "id": "OcWzcBAB9gUp",
        "colab_type": "text"
      },
      "source": [
        "#Define las clases capa y red"
      ]
    },
    {
      "cell_type": "code",
      "metadata": {
        "id": "KNeGTeh5ZXdb",
        "colab_type": "code",
        "colab": {}
      },
      "source": [
        "class Neural_Layer():\n",
        "  def __init__(self, dimensionInput, cantidadNeuronas, funcionActivacion):\n",
        "    self.dimensionInput = dimensionInput\n",
        "    self.cantidadNeuronas = cantidadNeuronas\n",
        "    self.funcionActivacion = funcionActivacion\n",
        "    self.W_ = (np.random.rand(cantidadNeuronas, dimensionInput + 1) *2) - 1 #La primer columna corresponde al Bias que va a cada neurona de salida. / \n",
        "    \n",
        "  def outputCapa(self, inputCapa):\n",
        "    #print(inputCapa)\n",
        "    return self.W_[:, 0] + self.W_[:, 1:] @ inputCapa\n",
        "    \n",
        "  def predictCapa(self, inputCapa):    \n",
        "    outputCapa = self.outputCapa(inputCapa)\n",
        "    return self.funcionActivacion.val(outputCapa)"
      ],
      "execution_count": 0,
      "outputs": []
    },
    {
      "cell_type": "code",
      "metadata": {
        "id": "ENFF9zPVcvWf",
        "colab_type": "code",
        "colab": {}
      },
      "source": [
        "class Neural_Net():\n",
        "  def __init__(self, topology, listaFuncionesActivacion, nombre='null'):\n",
        "    self.nombre = nombre\n",
        "    self.numeroCapasOcultas = len(topology) - 1 #Incluye la capa de salida, excluye la de entrada.\n",
        "    self.errors_= []\n",
        "    self.errorsValidation_ = []\n",
        "    self.capas = []\n",
        "    for i in range(self.numeroCapasOcultas):\n",
        "      capa = Neural_Layer(dimensionInput=topology[i], cantidadNeuronas=topology[i + 1], funcionActivacion=listaFuncionesActivacion[i])\n",
        "      self.capas.append(capa)\n",
        "      \n",
        "  def predict(self, inputRed): #arma una lista con el input, y los resultados despues de pasar por cada capa de la red\n",
        "    listaPredictsCapas = [inputRed]\n",
        "    \n",
        "    for i in range(self.numeroCapasOcultas):\n",
        "      predict = self.capas[i].predictCapa(listaPredictsCapas[-1])\n",
        "      listaPredictsCapas.append(predict)\n",
        "    \n",
        "    return listaPredictsCapas\n",
        "  \n",
        "  def train(self, conjuntoEntrenamiento, targetEntrenamiento, epochs=2000, lr=0.7):\n",
        "    \n",
        "    for i in range(epochs):\n",
        "      errors = 0\n",
        "      for xi, target in zip(conjuntoEntrenamiento, targetEntrenamiento):\n",
        "        listaPredict_xi = self.predict(xi)\n",
        "\n",
        "        predict_xi = listaPredict_xi[-1]\n",
        "\n",
        "        errors += (np.sum((target - predict_xi) ** 2)) / 2\n",
        "        listaDeltas = self.calculaDeltas(listaPredict_xi, target)\n",
        "\n",
        "        for i in range(1, 1 + len(listaDeltas), 1):\n",
        "          delta_W = lr * np.array([listaDeltas[i - 1]]).T @ np.array([listaPredict_xi[i - 1]])\n",
        "          self.capas[i - 1].W_[:, 1:] = self.capas[i - 1].W_[:, 1:] - delta_W\n",
        "          self.capas[i - 1].W_[:, 0] = self.capas[i - 1].W_[:, 0] - lr * listaDeltas[i - 1]\n",
        "          \n",
        "\n",
        "      self.errors_.append(errors)\n",
        "      \n",
        "  def calculaDeltas(self, listaPredicts, targetPredict):\n",
        "    listaDeltas = []\n",
        "    for i in range(len(listaPredicts) - 1, 0, -1):\n",
        "      \n",
        "      if i == len(listaPredicts) - 1:\n",
        "        delta = self.capas[i - 1].funcionActivacion.derivada(self.capas[i - 1].outputCapa(listaPredicts[-2])) * (listaPredicts[-1] - targetPredict)\n",
        "        listaDeltas.insert(0, delta)\n",
        "        \n",
        "      else:\n",
        "        delta = self.capas[i - 1].funcionActivacion.derivada(self.capas[i - 1].outputCapa(listaPredicts[-2 + i -(len(listaPredicts) - 1)])) * (self.capas[i].W_[:, 1:].T @ listaDeltas[0])\n",
        "        listaDeltas.insert(0, delta)\n",
        "    return listaDeltas\n",
        "   "
      ],
      "execution_count": 0,
      "outputs": []
    },
    {
      "cell_type": "markdown",
      "metadata": {
        "id": "YOHoVW5J9peh",
        "colab_type": "text"
      },
      "source": [
        "#Ejemplos y pruebas"
      ]
    },
    {
      "cell_type": "code",
      "metadata": {
        "id": "-pAQ3U5lg4_n",
        "colab_type": "code",
        "colab": {}
      },
      "source": [
        "red = Neural_Net([4, 3, 5, 2, 1], [Logistica(), Logistica(), Logistica(), Logistica()])\n",
        "\n",
        "#print(red.capas[0].W_[0,:])\n",
        "#print(\"-------------------\")\n",
        "#print(red.capas[0].W_[1:,:])\n",
        "#print(\"-------------------\")\n",
        "#print(np.array([1,1,1,1]))\n",
        "#print(\"-------------------\")\n",
        "#print(Logistica().val(red.capas[0].W_[0,:] + [1,1,1,1] @ red.capas[0].W_[1:,:]))\n",
        "#print(red.predict([0.5,0.5,0.5,0.5])[1].shape)\n",
        "#print(red.capas[0].W_)\n",
        "#print(red.calculaDeltas(red.predict([0, 0, 0, 0]), 1))\n",
        "#a = red.train(np.array([[1,1,1,1], [2,2,2,2]]), [0, 1])\n",
        "#predict = red.predict([1, 1, 1, 1])\n",
        "\n",
        "#print(predict)\n",
        "#print(red.predict([1, 1, 1, 0]))\n",
        "#print(red.predict([1, 1, 0, 1]))\n",
        "#print(red.predict([1, 0, 1, 1]))\n",
        "#print(red.predict([0, 1, 1, 1]))\n",
        "#print(red.predict([0, 0, 0, 1]))\n",
        "#print(red.predict([0, 0, 0, 0]))"
      ],
      "execution_count": 0,
      "outputs": []
    },
    {
      "cell_type": "code",
      "metadata": {
        "id": "24U-oiAKAzha",
        "colab_type": "code",
        "outputId": "df1f7c98-b927-4886-d328-1c5e93864736",
        "colab": {
          "base_uri": "https://localhost:8080/",
          "height": 498
        }
      },
      "source": [
        "for i, capa in enumerate(red.capas):\n",
        "  print(i)\n",
        "  print(\"pesos\" + str(capa.W_))\n",
        "\n",
        "predict1111 = red.capas[0].predictCapa([1,1,1,1])\n",
        "predict0000 = red.capas[0].predictCapa([-10,-10,-10,-10])\n",
        "\n",
        "print(red.capas[0].outputCapa([-1,-1,-1,-1]))\n",
        "print(red.capas[0].predictCapa([1,1,1,1]))\n",
        "print(\"-----\")\n",
        "print(red.capas[1].outputCapa(predict1111))\n",
        "print(red.capas[1].predictCapa(predict1111))\n",
        "print(\"-----\")\n",
        "print(red.capas[0].outputCapa([0,0,0,0]))\n",
        "print(red.capas[0].predictCapa([0,0,0,0]))\n",
        "print(\"-----\")\n",
        "print(red.capas[1].outputCapa(predict0000))\n",
        "print(red.capas[1].predictCapa(predict0000))"
      ],
      "execution_count": 0,
      "outputs": [
        {
          "output_type": "stream",
          "text": [
            "0\n",
            "pesos[[-0.16369542  0.24762822 -0.17075841  0.23762158 -0.22394278]\n",
            " [ 0.22294288  0.23765382  0.2136152  -0.15414583  0.16740243]\n",
            " [ 0.15303879  0.13285885 -0.12538215  0.22832843  0.0854131 ]]\n",
            "1\n",
            "pesos[[ 0.12301973 -0.13590302  0.01921756  0.10449247]\n",
            " [-0.2085546   0.23718288 -0.24640626 -0.08047607]\n",
            " [ 0.11739907 -0.02726077 -0.22101341 -0.08416231]\n",
            " [-0.08719602  0.24497108 -0.07293514  0.00406363]\n",
            " [-0.15145855  0.12313932  0.13316067  0.1489683 ]]\n",
            "2\n",
            "pesos[[ 0.00962114 -0.11938549  0.14919571  0.06811921 -0.05960127 -0.13638949]\n",
            " [-0.18970498 -0.10720422 -0.20103466  0.05877213  0.06964012 -0.21413925]]\n",
            "3\n",
            "pesos[[ 0.17740268  0.17776585 -0.05215858]]\n",
            "[-0.25424403 -0.24158275 -0.16817945]\n",
            "[0.48172144 0.66540355 0.61639084]\n",
            "-----\n",
            "[ 0.13474797 -0.30786284 -0.09467301 -0.01521472  0.08828858]\n",
            "[0.53363611 0.42363648 0.47634941 0.49619639 0.52205782]\n",
            "-----\n",
            "[-0.16369542  0.22294288  0.15303879]\n",
            "[0.45916728 0.55550601 0.5381852 ]\n",
            "-----\n",
            "[ 0.09320033 -0.15447108  0.10403772 -0.02527466 -0.11173199]\n",
            "[0.52328323 0.46145884 0.52598599 0.49368167 0.47209603]\n"
          ],
          "name": "stdout"
        }
      ]
    },
    {
      "cell_type": "code",
      "metadata": {
        "id": "bhNw4MEfNMxG",
        "colab_type": "code",
        "colab": {}
      },
      "source": [
        "capa1 = red.capas[1].W_\n",
        "bias = red.capas[1].W_[:, 0]\n",
        "pesos = red.capas[1].W_[:, 1:]\n",
        "print(pesos)\n",
        "print(predict1111)\n",
        "print(predict0000)\n",
        "print(pesos @ predict1111)\n",
        "print(pesos @ predict0000)"
      ],
      "execution_count": 0,
      "outputs": []
    },
    {
      "cell_type": "code",
      "metadata": {
        "id": "3AvncYmYNCn_",
        "colab_type": "code",
        "colab": {}
      },
      "source": [
        "print([-186847283902439/2500000000000000,-835305986168751/5000000000000000])"
      ],
      "execution_count": 0,
      "outputs": []
    },
    {
      "cell_type": "code",
      "metadata": {
        "id": "buHSorWdA38K",
        "colab_type": "code",
        "colab": {}
      },
      "source": [
        "x = np.array([[0., 0.], [0., 1.], [1., 0.], [1., 1.]])\n",
        "y = np.array([[1, 0], [1, 0], [1, 0], [0, 1]])\n",
        "red = Neural_Net([2, 4, 3, 3, 2], [Logistica(), Logistica(), Logistica(), Logistica(), Logistica()])\n",
        "\n",
        "#red.calculaDeltas(red.predict([0,0]), 1)\n",
        "\n",
        "red.train(x,y)\n",
        "print(red.predict([0,0]))\n",
        "print(red.predict([1,0]))\n",
        "print(red.predict([0,1]))\n",
        "print(red.predict([1,1]))\n",
        "#print(red.errors_[-1])"
      ],
      "execution_count": 0,
      "outputs": []
    },
    {
      "cell_type": "code",
      "metadata": {
        "id": "gl0kp97rFBQh",
        "colab_type": "code",
        "outputId": "4d64c6b4-d64a-4b91-8534-f3850508aec7",
        "colab": {
          "base_uri": "https://localhost:8080/",
          "height": 35
        }
      },
      "source": [
        "print(list(range(0, len([1,2,3,4,5]), 1)))"
      ],
      "execution_count": 0,
      "outputs": [
        {
          "output_type": "stream",
          "text": [
            "[0, 1, 2, 3, 4]\n"
          ],
          "name": "stdout"
        }
      ]
    }
  ]
}